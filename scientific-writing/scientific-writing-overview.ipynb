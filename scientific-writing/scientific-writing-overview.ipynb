{
 "cells": [
  {
   "cell_type": "markdown",
   "metadata": {
    "internals": {
     "slide_type": "subslide"
    },
    "slideshow": {
     "slide_type": "slide"
    }
   },
   "source": [
    "# Lecture Notes on Scientific Writing in Computer Science\n",
    "\n",
    "## Overview\n",
    "\n",
    "\n",
    "\n",
    "__Michael Granitzer__ (michael.granitzer@uni-passau.de)]( http://www.mendeley.com/profiles/michael-granitzer/)\n",
    "\n",
    "\n",
    "\n",
    "__License__\n",
    "\n",
    "This work is licensed under a [Creative Commons Attribution 3.0 Unported License](http://creativecommons.org/licenses/by/3.0/)"
   ]
  },
  {
   "cell_type": "markdown",
   "metadata": {
    "internals": {},
    "slideshow": {
     "slide_type": "slide"
    }
   },
   "source": [
    "# 1. Why Writing?\n"
   ]
  },
  {
   "cell_type": "markdown",
   "metadata": {
    "internals": {},
    "slideshow": {
     "slide_type": "fragment"
    }
   },
   "source": [
    "Scientific Writing is an often undervalued skill, especially in Computer Science\n",
    "\n",
    "- Reading and writing - two sides of a coin\n",
    "- Gain better understanding on the topic\n",
    "- Communicating results"
   ]
  },
  {
   "cell_type": "markdown",
   "metadata": {
    "internals": {},
    "slideshow": {
     "slide_type": "slide"
    }
   },
   "source": [
    "# 2. Problem Setting"
   ]
  },
  {
   "cell_type": "markdown",
   "metadata": {
    "internals": {},
    "slideshow": {
     "slide_type": "subslide"
    }
   },
   "source": [
    "Finding a solution starts with knowing the problem setting. That's also true for writing.\n",
    "\n",
    "Three components characterize the problem setting in reading and writing:\n",
    "\n",
    "1. The field - expectations, state-of-the-art, conventions, standards, does and dont's\n",
    "2. The reader - Expectations, knowledge, skills, roles\n",
    "3. The manuscript - purpose, contributions, structure, layout"
   ]
  },
  {
   "cell_type": "markdown",
   "metadata": {
    "internals": {},
    "slideshow": {
     "slide_type": "slide"
    }
   },
   "source": [
    "# 3. About the Lecture Notes\n",
    "\n",
    "\n",
    "\n",
    "\n"
   ]
  },
  {
   "cell_type": "markdown",
   "metadata": {},
   "source": [
    "This lecture notes explain the process of Scientific Writing by addressing the three components.\n",
    "\n"
   ]
  },
  {
   "cell_type": "markdown",
   "metadata": {},
   "source": [
    "## FOCCI: Goals in Scientific Writing"
   ]
  },
  {
   "cell_type": "markdown",
   "metadata": {},
   "source": [
    "Scientific writing is different to writing news, poetry or novels. It follows five principles\n",
    "\n",
    "- **F**luid \n",
    "- **O**rganised\n",
    "- **C**lear\n",
    "- **C**oncise \n",
    "- **I**nteresting"
   ]
  },
  {
   "cell_type": "markdown",
   "metadata": {
    "internals": {},
    "slideshow": {
     "slide_type": "slide"
    }
   },
   "source": [
    "# 4. Disclaimer "
   ]
  },
  {
   "cell_type": "markdown",
   "metadata": {
    "internals": {},
    "slideshow": {
     "slide_type": "fragment"
    }
   },
   "source": [
    " Scientific Writing is **not an exact science**, so there is no best way in doing things. A lot depends on experience and best practices. <p>\n",
    "\n",
    "<div class=\"alert-info\">\n",
    "This lecture notes cover my personal experience and best practices identified by a lot of people researching this subject (kudos to all of them). <p>\n",
    "\n",
    "As with most other subjects you learn, **practicing is the only way to master it**. \n",
    "</div>"
   ]
  }
 ],
 "metadata": {
  "celltoolbar": "Slideshow",
  "kernelspec": {
   "display_name": "Python 3",
   "language": "python",
   "name": "python3"
  },
  "language_info": {
   "codemirror_mode": {
    "name": "ipython",
    "version": 3
   },
   "file_extension": ".py",
   "mimetype": "text/x-python",
   "name": "python",
   "nbconvert_exporter": "python",
   "pygments_lexer": "ipython3",
   "version": "3.5.1"
  }
 },
 "nbformat": 4,
 "nbformat_minor": 0
}
