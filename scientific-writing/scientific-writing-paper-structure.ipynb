{
 "cells": [
  {
   "cell_type": "markdown",
   "metadata": {
    "slideshow": {
     "slide_type": "slide"
    }
   },
   "source": [
    "# Lecture Notes on Scientific Writing in Computer Science"
   ]
  },
  {
   "cell_type": "markdown",
   "metadata": {},
   "source": [
    "## The Structure of a Research Paper"
   ]
  },
  {
   "cell_type": "markdown",
   "metadata": {},
   "source": [
    "__Michael Granitzer__ [(michael.granitzer@uni-passau.de)]( http://www.mendeley.com/profiles/michael-granitzer/)\n",
    "\n",
    "\n",
    "\n",
    "__License__\n",
    "\n",
    "This work is licensed under a [Creative Commons Attribution 3.0 Unported License](http://creativecommons.org/licenses/by/3.0/)"
   ]
  },
  {
   "cell_type": "markdown",
   "metadata": {
    "slideshow": {
     "slide_type": "slide"
    }
   },
   "source": [
    "# About this Lecture Notes"
   ]
  },
  {
   "cell_type": "markdown",
   "metadata": {},
   "source": [
    "We will cover basics on how a research paper should be structured. I closely follow the concept and ideas that stem from one great source, which i recommend to everyone:\n",
    "\n",
    ">Scientific Writing 2.0 - A Reader and Writer's Guide from Jean-Luc Lebrun \n",
    "\n",
    "So go and grab the book. Take a look at his [website](http://www.scientific-writing.com/)\n",
    "\n",
    "There is also software accompanying that book called [SWAN - the Scientific Writing Assistant](http://cs.uef.fi/swan/help.html). When writing papers/homeworks, use that software to improve your writing. \n",
    "\n",
    "My lecture notes are just the kick-off to get you started. To really master the subject you need to work through Lebrun's book."
   ]
  },
  {
   "cell_type": "markdown",
   "metadata": {},
   "source": [
    "#Table of Contents\n",
    "* [About this Lecture Notes](#About-this-Lecture-Notes)\n",
    "* [Purpose of your Paper](#Purpose-of-your-Paper)\n",
    "* [The skeleton of your paper](#The-skeleton-of-your-paper)\n",
    "\t* [General elements of the structure](#General-elements-of-the-structure)\n",
    "* [The Title](#The-Title)\n",
    "* [The Abstract](#The-Abstract)\n",
    "* [The Introduction](#The-Introduction)\n",
    "* [The Background](#The-Background)\n",
    "* [The Contribution](#The-Contribution)\n",
    "* [Results and Discussion](#Results-and-Discussion)\n",
    "* [Conclusion](#Conclusion)\n",
    "* [Summary](#Summary)\n"
   ]
  },
  {
   "cell_type": "markdown",
   "metadata": {
    "slideshow": {
     "slide_type": "slide"
    }
   },
   "source": [
    "# Purpose of your Paper"
   ]
  },
  {
   "cell_type": "markdown",
   "metadata": {
    "slideshow": {
     "slide_type": "fragment"
    }
   },
   "source": [
    "What is the purpose of a research paper?"
   ]
  },
  {
   "cell_type": "markdown",
   "metadata": {
    "slideshow": {
     "slide_type": "fragment"
    }
   },
   "source": [
    "As a researcher you are making a **contribution**. That could be a new algorithm, method, process, insight or bringing together existing work in a new manner. It is to identify something new, that might be interesting for others.\n",
    "\n",
    "The main purpose of your paper is to **describe your contribution** and answer the following questions:\n",
    "\n",
    "1. What is the contribution?\n",
    "2. How is your contribution different to what already exists?\n",
    "3. Why is your contribution important and what problems does it solve?\n",
    "4. How does your contribution work?\n",
    "5. How can others reproduce your contribution?\n",
    "6. On what evidences is your contribution based on?\n",
    "6. What is the impact of your contribution for the future?\n",
    "\n",
    "\n",
    "<p>\n",
    "<div class=\"alert alert-info\">\n",
    "A research paper must be structured around your contribution. The structure must answer the above questions.\n",
    "</div>"
   ]
  },
  {
   "cell_type": "markdown",
   "metadata": {
    "slideshow": {
     "slide_type": "slide"
    }
   },
   "source": [
    "# The skeleton of your paper"
   ]
  },
  {
   "cell_type": "markdown",
   "metadata": {
    "slideshow": {
     "slide_type": "fragment"
    }
   },
   "source": [
    "The skeleton of your paper are all headings and sub-headings that give your paper a structure. The are **four principles** to follow for setting up the structure of a paper (see Lebrun 2011):\n",
    "\n",
    "1. The contribution guides the shape of a paper\n",
    "2. Headings and subheadings detailing the contribution are grouped together\n",
    "3. Title words reflecting your contribution should be repeated in the headings\n",
    "4. The structure tells the story of your paper and guides the reader.\n",
    "\n",
    "<p>\n",
    "<div class=\"alert alert-danger\">\n",
    "**Note:** Never make sub-headings that only contain 1-2 paragraphs.\n",
    "</div>\n"
   ]
  },
  {
   "cell_type": "markdown",
   "metadata": {
    "slideshow": {
     "slide_type": "subslide"
    }
   },
   "source": [
    "## General elements of the structure"
   ]
  },
  {
   "cell_type": "markdown",
   "metadata": {
    "slideshow": {
     "slide_type": "fragment"
    }
   },
   "source": [
    "The major elements of your research paper should be\n",
    "\n",
    "1. Title - The one sentence that describes your contribution\n",
    "2. Abstract - The four sentences that summarize your paper\n",
    "3. Introduction - The problem and your contributions to it\n",
    "4. Background - the background information (related work, state of the art) relevant for the reader. Sometimes this can be integrated in the introduction\n",
    "5. Contribution - Use sub-headings to group your contribution. You might use more than 1 section for your contribution, but make it clear why.\n",
    "6. Results and discussion \n",
    "7. Conclusion - Summarize and conclude the major contributions. Point out the possible impact on the future."
   ]
  },
  {
   "cell_type": "markdown",
   "metadata": {
    "slideshow": {
     "slide_type": "slide"
    }
   },
   "source": [
    "# The Title"
   ]
  },
  {
   "cell_type": "markdown",
   "metadata": {},
   "source": [
    "<div class=\"alert alert-info\">\n",
    "The title summarizes your contribution in one sentence. \n",
    "</div>\n",
    "\n",
    "The title is the part which potential readers will see first. Based on your title they decide to take a closer look or to continue their search. The potential reader also gets a first idea on what your paper is about and the potential impact of your contribution. It also sets the expectations, that need to be fulfilled.\n",
    "\n",
    "A title should be\n",
    "- **Unique** - so that it differentiates from others\n",
    "- **Concise** - so that it is fast to read and understand\n",
    "- **Clear** - so that it is easy to read and understand for the relevant community.\n",
    "- **Honest and Representative** - it sets the expectations of the reader\n",
    "- **Catchy** - so that the reader gets motivated\n",
    "- **Easy to find** - so that the reader can find it in the first place"
   ]
  },
  {
   "cell_type": "markdown",
   "metadata": {
    "slideshow": {
     "slide_type": "slide"
    }
   },
   "source": [
    "# The Abstract"
   ]
  },
  {
   "cell_type": "markdown",
   "metadata": {},
   "source": [
    "After the title, the abstract is the second most read part of your paper. It is a paper in the nutshell and should summarize the paper in very few words. It is the second decision point for the reader to dwell into your paper or not.\n",
    "\n",
    "An abstract has 4 to 5 parts:\n",
    "\n",
    "1. **Part 0 - the Background:** Only if it is necessary or if you have enough space, start with a sentence that sets the background. Most often this part is omitted\n",
    "2. **Part 1 - the Problem:** Explain the problem, topic and aim of the paper (1-2 sentences)\n",
    "3. **Part 2 - the Solution:** Explain how you solved the problem (1-2 sentences)\n",
    "4. **Part 3 - the Results:** Explain the results obtained. That is the most important and largest part of the abstract (1-2 sentences)\n",
    "5. **Part 4 - the Impact:** Explain the impact of the results and how well the problem could be solved."
   ]
  },
  {
   "cell_type": "markdown",
   "metadata": {
    "slideshow": {
     "slide_type": "subslide"
    }
   },
   "source": [
    "A good abstract \n",
    "\n",
    "1. is **representative**, i.e. it states the contribution and sets the expectations. Since the title also contains the contribution the abstract should contain all title words\n",
    "2. is **complete**, i.e. it contains parts 1-4\n",
    "3. is **concise**, i.e. is no longer than necessary\n",
    "4. is **precise**, i.e. describes the contribution accurately\n",
    "5. is **explicit**, i.e. it uses formulations that are unambiguously\n"
   ]
  },
  {
   "cell_type": "markdown",
   "metadata": {
    "slideshow": {
     "slide_type": "slide"
    }
   },
   "source": [
    "# The Introduction"
   ]
  },
  {
   "cell_type": "markdown",
   "metadata": {
    "slideshow": {
     "slide_type": "fragment"
    }
   },
   "source": [
    "The introduction sets the story of the paper. It can be viewed like a funnel that takes on board all readers with different background, motivation and expectations and leads them to your contribution.\n",
    "\n",
    "An introduction has the following parts:\n",
    "\n",
    "1. **The motivation** introduces the topic and claims the field. Very short.\n",
    "2. **The problem** explains what you want to solve. Examples usually help the reader to create an early, intuitive understanding. \n",
    "3. **The contribution** explain your contributions/solutions to the problems. Make them explicit, i.e. use a bullet point list. This is the most important part of the introduction.\n",
    "4. **The impact** explains why your contribution is relevant. \n",
    "\n"
   ]
  },
  {
   "cell_type": "markdown",
   "metadata": {
    "slideshow": {
     "slide_type": "subslide"
    }
   },
   "source": [
    "Properties of a good introduction:\n",
    "\n",
    "1. It engages the reader by telling a story (but not your personal research story)\n",
    "2. It starts fast and finishes strong\n",
    "3. It answers the readers key question\n",
    "    1. What is the main question addressed by the paper?\n",
    "    1. Why is it important right now?\n",
    "    2. What are the main contributions of the paper?\n",
    "    3. What are the obtained results?\n",
    "    4. Why should the reader care?\n",
    "4. It clearly identifies what your work is by using active, explicit formulations (i.e. \"our contribution is...\")"
   ]
  },
  {
   "cell_type": "markdown",
   "metadata": {
    "slideshow": {
     "slide_type": "slide"
    }
   },
   "source": [
    "# The Background"
   ]
  },
  {
   "cell_type": "markdown",
   "metadata": {
    "slideshow": {
     "slide_type": "subslide"
    }
   },
   "source": [
    "The background contains related work and state-of-the-art in the domain. It basically serves two purposes:\n",
    "\n",
    "1. Bridge the knowledge-gap of the reader. \n",
    "2. Point out the differences of your contribution to what already exists.\n",
    "\n",
    "In short papers, the background might be included in the introduction. But beware that the introduction must be short. You might use sub-headings in the introduction to differentiate the background from your motivation. \n",
    "\n",
    "When writing your background, don't simply list related work. Instead you should bring related work in relation to each other and in relation with your own work."
   ]
  },
  {
   "cell_type": "markdown",
   "metadata": {
    "slideshow": {
     "slide_type": "subslide"
    }
   },
   "source": [
    "# The Contribution "
   ]
  },
  {
   "cell_type": "markdown",
   "metadata": {},
   "source": [
    "Since every contribution is new and different, it is hard to define a blueprint. But some general rules are\n",
    "\n",
    "- Use expressive, concise and logically ordered headings and sub-headings to structure your contribution\n",
    "- Use visuals and examples\n",
    "- Before explaining complicated issues, try to foster the reader's intuition through an example first. Alternatively, summarize complex paragraphs through an example\n",
    "- Although the contribution covers most of your article, it is the least read section due to its complexity. \n",
    "- Most often it is the part that is the easiest to write.\n"
   ]
  },
  {
   "cell_type": "markdown",
   "metadata": {
    "slideshow": {
     "slide_type": "slide"
    }
   },
   "source": [
    "# Results and Discussion"
   ]
  },
  {
   "cell_type": "markdown",
   "metadata": {
    "slideshow": {
     "slide_type": "subslide"
    }
   },
   "source": [
    "**The Results**\n",
    "\n",
    "The results section **verifies your contribution**. For example, you have developed a new algorithm and you ran some tests (e.g. simulations, synthetic experiments, real-world experiments). In the results section you need to report on the conducted experiments. The reported results **must be reproducible**, so that fellow colleagues can validate your contribution.\n",
    "\n",
    "Some properties of the results section:\n",
    "\n",
    "1. Describe very parameter, definition or assumption on how you obtained the results\n",
    "5. Outline why an experiment provides evidence for a contribution\n",
    "6. Report on well known limitations of your experiments. If readers find out limitations on their own, they start mistrusting your work or you. \n",
    "2. Report the results as they are. Do not interpret them in the first place. \n",
    "3. Use figures and charts.\n",
    "4. Be honest and clear. If there are flaws, the (mass of ) readers will find it sooner or later. \n",
    "5. Provide links to your code or to the full set of results if possible. "
   ]
  },
  {
   "cell_type": "markdown",
   "metadata": {
    "slideshow": {
     "slide_type": "subslide"
    }
   },
   "source": [
    "**The Discussion**\n",
    "\n",
    "The discussion **interprets the results** and **draws conclusions**. Result and discussion might be different sections or subsections, or, when needed, subsequent paragraphs. That depends on the results.\n",
    "\n",
    "As a core principle:\n",
    "<p>\n",
    "\n",
    "<div class = \"alert alert-info\">\n",
    "Discuss how a results provides evidence for a claimed contribution. \n",
    "</div>"
   ]
  },
  {
   "cell_type": "markdown",
   "metadata": {
    "slideshow": {
     "slide_type": "slide"
    }
   },
   "source": [
    "# Conclusion "
   ]
  },
  {
   "cell_type": "markdown",
   "metadata": {},
   "source": [
    "The conclusion summarizes the major findings and outlines open endings of your research. Don't be afraid of open endings, they are the driving force behind science.\n",
    "\n",
    "Some rules:\n",
    "\n",
    "1. Don't copy the abstract. Readers often read the conclusion after the abstract. \n",
    "2. Summarize your contribution, but under the assumption that the reader read your paper. \n",
    "3. Your conclusion is the part of the paper a reader most likely remembers. It's the last impression. So don't be vague. Be honest, precise and down to the point.\n",
    "4. Point out open endings such that other researchers can easily take up your work and improve it. That's science."
   ]
  },
  {
   "cell_type": "markdown",
   "metadata": {
    "slideshow": {
     "slide_type": "slide"
    }
   },
   "source": [
    "# Summary"
   ]
  },
  {
   "cell_type": "markdown",
   "metadata": {
    "slideshow": {
     "slide_type": "fragment"
    }
   },
   "source": [
    "The structure of a paper is critical to guide your reader. The most important principal is:\n",
    "<p>\n",
    "\n",
    "<div class=\"alert alert-info\">\n",
    "Contribution guides the structure, not vice versa.\n",
    "</div>\n",
    "\n",
    "So the proposed structure is not set in stone. if you have good reasons to deviate from the proposed structure, do it. \n",
    "\n",
    "To learn about good structures try to incorporate the analysis of the structure in your reading habits:\n",
    "\n",
    "1. When opening a paper, scan the headings, sub-headings and visuals. Do you get an idea what the paper is about?\n",
    "2. How do good papers compare to the structure proposed here?\n",
    "3. How do bad papers compare to the structure proposed here?\n",
    "4. Practice, practice, practice\n",
    "\n",
    "Finally: Grap Lebrun's book and work through it. This lecture notes are just a quick overview. There is much more under the surface.\n"
   ]
  }
 ],
 "metadata": {
  "celltoolbar": "Slideshow",
  "kernelspec": {
   "display_name": "Python 2",
   "language": "python",
   "name": "python2"
  },
  "language_info": {
   "codemirror_mode": {
    "name": "ipython",
    "version": 2
   },
   "file_extension": ".py",
   "mimetype": "text/x-python",
   "name": "python",
   "nbconvert_exporter": "python",
   "pygments_lexer": "ipython2",
   "version": "2.7.8"
  }
 },
 "nbformat": 4,
 "nbformat_minor": 0
}
