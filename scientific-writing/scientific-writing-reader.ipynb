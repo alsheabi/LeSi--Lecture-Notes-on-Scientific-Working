{
 "cells": [
  {
   "cell_type": "markdown",
   "metadata": {
    "slideshow": {
     "slide_type": "slide"
    }
   },
   "source": [
    "# Lecture Notes on Scientific Writing in Computer Science"
   ]
  },
  {
   "cell_type": "markdown",
   "metadata": {},
   "source": [
    "## [Understanding the Reader](http://nbviewer.ipython.org/urls/raw.github.com/mgrani/LeSi--Lecture-Notes-on-Scientific-Working/master/scientific-writing/scientific-writing-reader.ipynb)"
   ]
  },
  {
   "cell_type": "markdown",
   "metadata": {},
   "source": [
    "__Michael Granitzer__ [(michael.granitzer@uni-passau.de)]( http://www.mendeley.com/profiles/michael-granitzer/)\n",
    "\n",
    "\n",
    "\n",
    "__License__\n",
    "\n",
    "This work is licensed under a [Creative Commons Attribution 3.0 Unported License](http://creativecommons.org/licenses/by/3.0/)"
   ]
  },
  {
   "cell_type": "markdown",
   "metadata": {
    "slideshow": {
     "slide_type": "slide"
    }
   },
   "source": [
    "# About this Lecture Notes"
   ]
  },
  {
   "cell_type": "markdown",
   "metadata": {},
   "source": [
    "We will cover basics on scientific writing by trying to understand the reader and the problems of the reader. The majority of the ideas here come from one great source, which i recommend to everyone:\n",
    "\n",
    ">Scientific Writing 2.0 - A Reader and Writer's Guide from Jean-Luc Lebrun \n",
    "\n",
    "So go and grab the book. Take a look at his [website](http://www.scientific-writing.com/)\n",
    "\n",
    "There is also software acompanying that book called [SWAN - the Scientific Writing Assistant](http://cs.uef.fi/swan/help.html). When writing papers/homeworks, use that software to improve your writing. \n",
    "\n",
    "My lecture notes are just the kick-off to get you started. To really master the subject you need to work through Lebrun's book."
   ]
  },
  {
   "cell_type": "markdown",
   "metadata": {
    "slideshow": {
     "slide_type": "slide"
    }
   },
   "source": [
    "# Table of Contents\n",
    "* [Lecture Notes on Scientific Writing in Computer Science](#Lecture-Notes-on-Scientific-Writing-in-Computer-Science)\n",
    "\t* [Understanding the Reader](#Understanding-the-Reader)\n",
    "* [About this Lecture Notes](#About-this-Lecture-Notes)\n",
    "* [The Reader - A Mystery](#The-Reader---A-Mystery)\n",
    "\t* [Basic Topics](#Basic-Topics)\n",
    "\t* [Advanced Topics](#Advanced-Topics)\n",
    "* [Managing the Reader's Short Term Memory](#Managing-the-Reader's-Short-Term-Memory)\n",
    "\t* [Rules for Managing Short Term Memory](#Rules-for-Managing-Short-Term-Memory)\n",
    "\t\t* [Examples - Acronyms](#Examples---Acronyms)\n",
    "* [Managing Attention](#Managing-Attention)\n",
    "\t* [Continuous Reading](#Continuous-Reading)\n",
    "\t\t* [Example  of jumping topics and for from unknown to known](#Example--of-jumping-topics-and-for-from-unknown-to-known)\n",
    "\t* [Remedy 1: Structuring Paragraphs to ensure continuous Reading](#Remedy-1:-Structuring-Paragraphs-to-ensure-continuous-Reading)\n",
    "\t\t* [How to progress a paragraph?](#How-to-progress-a-paragraph?)\n",
    "\t* [Remedy 2: Grabbing Attention](#Remedy-2:-Grabbing-Attention)\n",
    "\t* [Remedy 3: Pause](#Remedy-3:-Pause)\n",
    "\t* [Remedy 5: Reduce reading time](#Remedy-5:-Reduce-reading-time)\n",
    "* [Managing the Readers Motivation](#Managing-the-Readers-Motivation)\n",
    "\t* [Basic techniques for managing Motivation](#Basic-techniques-for-managing-Motivation)\n",
    "* [Summary](#Summary)\n",
    "* [Literature](#Literature)\n"
   ]
  },
  {
   "cell_type": "markdown",
   "metadata": {
    "slideshow": {
     "slide_type": "slide"
    }
   },
   "source": [
    "# The Reader - A Mystery"
   ]
  },
  {
   "cell_type": "markdown",
   "metadata": {
    "slideshow": {
     "slide_type": "subslide"
    }
   },
   "source": [
    "Knowing the reader is critical to write a good paper. \n",
    "\n",
    "But what are the skills/properties of a reader?\n",
    "\n",
    "1. Psychological Skills - joint properties for all humans\n",
    "    1. Memory\n",
    "    2. Attention\n",
    "    3. Motivation\n",
    "2. Individual Circumstances - situations different from reader to reader\n",
    "    1. Background Knowledge - Bridging the gap\n",
    "    2. Situation - Time Available and Goals\n",
    "    3. Purpose - Engagement and Need\n"
   ]
  },
  {
   "cell_type": "markdown",
   "metadata": {
    "slideshow": {
     "slide_type": "notes"
    }
   },
   "source": [
    "<img src=\"media/img/reader_mindmap.png\">\n",
    "\n"
   ]
  },
  {
   "cell_type": "markdown",
   "metadata": {
    "slideshow": {
     "slide_type": "notes"
    }
   },
   "source": [
    "(Source Lebrun, http://www.scientific-writing.com/)"
   ]
  },
  {
   "cell_type": "markdown",
   "metadata": {
    "slideshow": {
     "slide_type": "subslide"
    }
   },
   "source": [
    "## Basic Topics"
   ]
  },
  {
   "cell_type": "markdown",
   "metadata": {
    "slideshow": {
     "slide_type": "-"
    }
   },
   "source": [
    "- Managing the Reader's Short Term Memory\n",
    "- Managing the Reader's Attention\n",
    "- Managing the Reader's Motivation"
   ]
  },
  {
   "cell_type": "markdown",
   "metadata": {
    "slideshow": {
     "slide_type": "subslide"
    }
   },
   "source": [
    "## Advanced Topics"
   ]
  },
  {
   "cell_type": "markdown",
   "metadata": {},
   "source": [
    "- Progression in Detail\n",
    "- Readers Expectation\n",
    "- Readers Energy"
   ]
  },
  {
   "cell_type": "markdown",
   "metadata": {
    "slideshow": {
     "slide_type": "slide"
    }
   },
   "source": [
    "# Managing the Reader's Short Term Memory"
   ]
  },
  {
   "cell_type": "markdown",
   "metadata": {
    "slideshow": {
     "slide_type": "fragment"
    }
   },
   "source": [
    "**Short Term Memory**\n",
    "\n",
    "- Amount of information active in one's mind\n",
    "- 7 concepts/items ($\\pm$ 2)\n",
    "- Comparable with Cache Memory on a CPU, low capacity, but ultra-fast\n",
    "\n",
    "**Your Goal:**\n",
    "\n",
    "- Short Term Memory is a scarce sources when reading complex material\n",
    "- As a writer you have to manage the short term memory of your reader. Use it like you use a cache-memory to optimize the speed of an algorithm."
   ]
  },
  {
   "cell_type": "markdown",
   "metadata": {
    "slideshow": {
     "slide_type": "subslide"
    }
   },
   "source": [
    "## Rules for Managing Short Term Memory"
   ]
  },
  {
   "cell_type": "markdown",
   "metadata": {
    "slideshow": {
     "slide_type": "fragment"
    }
   },
   "source": [
    "\n",
    "According to [Lebrun 2007]:\n",
    "\n",
    "1. **Acronyms** - Introduce them on the page they are used, except for very frequent or very well known acronyms \n",
    "2. **Pronouns** - Carefully revise every this, their, those ... Don't point to ambiguous things  \n",
    "3. **Diverting Synonyms** - Don't use synonyms - the 1-1-1 principle: One paper - one phrase - one meaning.\n",
    "4. **The Distant Background** - Introduce background knowledge in the context it is used.\n",
    "5. **Broken Couple** - Don't separate the verb from the noun\n",
    "6. **Word Overflow** - Short sentences are beautiful\n",
    "\n",
    "\n",
    "<p/>\n",
    "<p/>\n",
    "<div class=\"alert alert-info\">\n",
    "Stick to short sentences with simple, but explicit structures.\n",
    "</div>"
   ]
  },
  {
   "cell_type": "markdown",
   "metadata": {
    "slideshow": {
     "slide_type": "subslide"
    }
   },
   "source": [
    "###  Examples - Acronyms"
   ]
  },
  {
   "cell_type": "markdown",
   "metadata": {
    "slideshow": {
     "slide_type": "fragment"
    }
   },
   "source": [
    "<img src=\"media/img/webrat-granitzer.png\"\\>\n",
    "\n",
    "<div class=\"alert alert-danger\">\n",
    "**Whats wrong?**\n",
    "</div>"
   ]
  },
  {
   "cell_type": "markdown",
   "metadata": {
    "slideshow": {
     "slide_type": "fragment"
    }
   },
   "source": [
    "- WebRat ? - mentioned two times, but no explanation what it is. The explanation is given in 2.\n",
    "- SVG ? - not explained, no reference, but could be OK if it is common in the community. Better to put in a reference or URL to make things clear.\n",
    "- Overview by far to short, no contribution, no motivation, no embedding in the field (but that relates to the structure of the paper)"
   ]
  },
  {
   "cell_type": "markdown",
   "metadata": {
    "slideshow": {
     "slide_type": "subslide"
    }
   },
   "source": [
    "**Example - Pronouns **"
   ]
  },
  {
   "cell_type": "markdown",
   "metadata": {
    "slideshow": {
     "slide_type": "fragment"
    }
   },
   "source": [
    "\n",
    ">BPMN (Business Process Modelling Notation) [35] is a standardised graphical process notation that is experiencing a rapid adoption among BPM tools vendors. There is no need; however, to have a BPMN model of a conference review process to know that paper selection can start after all the reviews have been received. This is because the status of a process is inherent to the information associated to artefacts that are part of the process.\n",
    "\n",
    "\n",
    "What are the problems? How do you resolve pronouns?"
   ]
  },
  {
   "cell_type": "markdown",
   "metadata": {
    "slideshow": {
     "slide_type": "fragment"
    }
   },
   "source": [
    "\n",
    "\n",
    "- \"There is no need\" - no need for what? BPMN or a rapid adoption?\n",
    "- \"This is because\" - does this refer to the BPMN model or the conference review process? \n",
    "- plus grammar errors that make the paragraph hard to read\n"
   ]
  },
  {
   "cell_type": "markdown",
   "metadata": {
    "slideshow": {
     "slide_type": "subslide"
    }
   },
   "source": [
    "**Example - Diverting Synonyms **\n",
    "\n",
    "> \"The angry dog hunted for the cat, but the cat escaped. The Canis Lupus Familiaris was happy, but the Felis Catus wasn't.\"\n",
    "\n",
    "Who was happy? The dog or the cat?"
   ]
  },
  {
   "cell_type": "markdown",
   "metadata": {
    "slideshow": {
     "slide_type": "fragment"
    }
   },
   "source": [
    "> \"The angry dog rushed for the cat, but the cat escaped. The dog was happy to had fun, but the cat was unhappy because of getting hunted.\"\n",
    "\n",
    "Novels should trigger the fantasy of readers. Science **must not**."
   ]
  },
  {
   "cell_type": "markdown",
   "metadata": {
    "slideshow": {
     "slide_type": "subslide"
    }
   },
   "source": [
    "**Example - The Distant Background **\n",
    "\n",
    ">  WebRat - a new, interactive search engine interface - allows to perform web-searches easily.\n",
    "\n",
    "WebRat is immediately defined after its named. So the background knowledge becomes immediately available for the reader. \n",
    "\n",
    "__But beware!__ Do not separate subject and verb too far from each other by inserting to complex background knowledge."
   ]
  },
  {
   "cell_type": "markdown",
   "metadata": {
    "slideshow": {
     "slide_type": "subslide"
    }
   },
   "source": [
    "**Example - The Broken Couple**\n",
    "\n",
    "> Experiment A shows that under the assumption of a uniform distribution of the input data and a normal distributed noise pattern (which is similar to cosmic noise when restricted to a certain bandwith) no improvement can be achieved. \n",
    "\n",
    "Whats wrong?\n",
    "\n"
   ]
  },
  {
   "cell_type": "markdown",
   "metadata": {
    "slideshow": {
     "slide_type": "fragment"
    }
   },
   "source": [
    "> Experiment A has been conducted under the assumption of a uniform distribution of the input data and a normal distributed noise pattern. Results show that no improvement could be achieved.\n",
    "\n",
    "OK? What could we do better?"
   ]
  },
  {
   "cell_type": "markdown",
   "metadata": {
    "slideshow": {
     "slide_type": "fragment"
    }
   },
   "source": [
    "> Experiment A assumed a uniform distribution of the input data and a normal distributed noise pattern. Results show no significant improvement.\n",
    "\n",
    "use strong verbs, i.e. verbs with high expressiveness; is, are and their inflections are not strong verbs. "
   ]
  },
  {
   "cell_type": "markdown",
   "metadata": {
    "slideshow": {
     "slide_type": "subslide"
    }
   },
   "source": [
    "**Always keep together the following couples:**\n",
    "\n",
    "- the verb and its object\n",
    "- the subject and its verb\n",
    "- the visual and its caption\n",
    "- background information and what requires background\n",
    "- unfamiliar words and their definition\n",
    "- acronym and its definition\n",
    "- Noun/phrase and its pronoun"
   ]
  },
  {
   "cell_type": "markdown",
   "metadata": {
    "slideshow": {
     "slide_type": "slide"
    }
   },
   "source": [
    "# Managing Attention"
   ]
  },
  {
   "cell_type": "markdown",
   "metadata": {},
   "source": [
    "Attention is reduced by\n",
    "\n",
    "- Easy content (your brain gets bored)\n",
    "- Complex content (you brain gets overloaded)\n",
    "- Redundancy \n",
    "- Monotony in terms of writing style, visual appearance, structure etc.\n",
    "\n",
    "When you loose attention, your mind drifts off and reading becomes looking.\n",
    "\n",
    "Keeping attention is hard, because it costs energy. Keeping attention vs. everyday activities is comparable to sprinting vs. strolling. \n",
    "\n",
    "<p>\n",
    "\n",
    "<div class=\"alert alert-info\">\n",
    "As a writer, you must ease the process of attention for the reader. The reader can maintain a higher level of energy and thus follow your thoughts more easily.\n",
    "</div>"
   ]
  },
  {
   "cell_type": "markdown",
   "metadata": {
    "slideshow": {
     "slide_type": "subslide"
    }
   },
   "source": [
    "## Continuous Reading"
   ]
  },
  {
   "cell_type": "markdown",
   "metadata": {
    "slideshow": {
     "slide_type": "fragment"
    }
   },
   "source": [
    "To keep attention high, the **story must progress**. \n",
    "\n",
    "Most common errors that indicate non-progression:\n",
    "\n",
    "- **Repetitions/Paraphrasing**. Say and explain things only once per section, otherwise readers are getting bored and feel silly (or think you don't have anything else to tell). Parts in a paper can be repeated to make a strong point, but in general try to avoid repetition.\n",
    "- **Jumping topics**. One paragraph, one topic. Avoid jumping between topics, alternating topics or making sudden, unexpected changes. It is not a criminal novel, that uses sudden changes to attract reader attention. For the scientific reader its the opposite: she gets lost.\n",
    "- **Nested Details**. Introduce one detail, that contains another detail, which is again based on another detail that itself requires another detail and you will loose the attention of the reader for sure. \n",
    "- **Go from the known to the unknown**. As a golden rule of thumb for sentences and paragraphs: Always use what the reader already knows to explain the new and unknown. \n",
    "\n",
    "These problems are often nested/combined."
   ]
  },
  {
   "cell_type": "markdown",
   "metadata": {
    "slideshow": {
     "slide_type": "subslide"
    }
   },
   "source": [
    "**Example of redundancy/non-progression **\n",
    "\n",
    "> \"Hence we propose a new algorithm that eliminates unwanted attributes in order to increase the categorization performance and to avoid the curse of dimensionality. The new algorithm of attribute selection eliminates attributes in order to increase the categorization performance and to avoid the curse of dimensionality. The new approach is based on the idea of transforming the value of the correlated attributes into new instance for the retained attributes. We aim to reduce the attributes space by performing attributes selection and increasing the learning space by creating new instances using the redundant attributes.\" "
   ]
  },
  {
   "cell_type": "markdown",
   "metadata": {
    "slideshow": {
     "slide_type": "subslide"
    }
   },
   "source": [
    "\n",
    "> \"Hence we propose a new algorithm that eliminates unwanted attributes in order to **increase the categorization performance and to avoid the curse of dimensionality**. The new algorithm of attribute selection **eliminates attributes in order to increase the categorization performance and to avoid the curse of dimensionality**. The new approach is based on the idea of transforming the value of the **correlated attributes into new instance for the retained attributes**. We aim to reduce the attributes space by performing **attributes selection and increasing the learning space by creating new instances using the redundant attributes**.\" \n",
    "\n",
    "See the bold texts, which are redundant. Reader's are getting bored, because the authors don't put things forward. This is an extreme, but real-world example. Most often it happens in a less obvious manner, or, in the case you went through the text thousand of times, you simply don't recognize it any more. "
   ]
  },
  {
   "cell_type": "markdown",
   "metadata": {
    "slideshow": {
     "slide_type": "subslide"
    }
   },
   "source": [
    "### Example  of jumping topics and for from unknown to known"
   ]
  },
  {
   "cell_type": "markdown",
   "metadata": {
    "slideshow": {
     "slide_type": "fragment"
    }
   },
   "source": [
    "> \"A web crawler gathers information from the Web based on the Web's Hyperlink structure. Web pages are mostly written in the HTML format. A web crawler consists of a frontier, a resolver, a fetcher and a extractor. The extractor extracts \"a\" elements from an HTML page for identifying links to other web pages. Elements define the structure and layout of a web page.  The fetcher downloads Web pages, while the resolver resolves a link. Finally, the frontier maintains the set of unprocessed links\"\n",
    "\n",
    "What wrong patterns do you detect?"
   ]
  },
  {
   "cell_type": "markdown",
   "metadata": {
    "slideshow": {
     "slide_type": "subslide"
    }
   },
   "source": [
    "> \"A web crawler gathers information from the Web based on the Web's Hyperlink structure. The Web's Hyperlink structure consists of Web pages written in HTML - the Hypertext Markup Language. Thereby HTML defines the hyperlink element 'a', which allows to include links pointing to other web pages. \n",
    "\n",
    "> A web crawler consists of the following components: a frontier, a resolver, a fetcher and a extractor. The frontier maintains the set of unprocessed links. For every unprocessed link the frontier calls the resolver. The resolver resolves a link and passes the resolved address to the fetcher. The fetcher downloads the Web Page, which is then processed by the extractor. The extractor extracts all \"a\" elements - the hyperlink elements - and adds it to the frontier.\"\n",
    "\n",
    "Not perfect, but better. Every paragraph covers one topic, which is defined with the first sentence. Every paragraph progresses by (i) deepening the explanation of the topic or (ii) by outlining a process."
   ]
  },
  {
   "cell_type": "markdown",
   "metadata": {
    "slideshow": {
     "slide_type": "subslide"
    }
   },
   "source": [
    "## Remedy 1: Structuring Paragraphs to ensure continuous Reading"
   ]
  },
  {
   "cell_type": "markdown",
   "metadata": {
    "slideshow": {
     "slide_type": "fragment"
    }
   },
   "source": [
    "Paragraphs form the core element for continuous reading. If you structure a paragraph well, you did already 50% of your article right.\n",
    "\n",
    "**Some rules:**\n",
    "- One paragraph is about one idea (topic, structure, message or theme). Don't mix several ideas in one paragraph.\n",
    "- The first sentence sets the expectations about a paragraph's content.\n",
    "- The last sentence remains in memory. It can be used to make the main point (e.g. raise a question, state a fact, summarize a finding)\n",
    "- Between the start and the end sentence, the topic of the paragraph needs to be progressed in an easy to read, logical manner. \n",
    "\n",
    "**Note:** In a good paper, you just need to read the first line of every paragraph to get an intuitive idea what the paper is about. "
   ]
  },
  {
   "cell_type": "markdown",
   "metadata": {
    "slideshow": {
     "slide_type": "subslide"
    }
   },
   "source": [
    "**Example**\n",
    "\n",
    "> **Browsing large-scale document collections usually requires a structural organization form like topic hierarchies.**\n",
    "Unsupervised machine learning techniques, foremost document clustering, overcome the labor intensive, manual creation of such topic hierarchies by automatic partitioning of unstructured document collections into browse-able cluster hierarchies. \n",
    "**This cluster based browsing approach has been shown to successfully improve access to unstructured document collections.**\n",
    "\n",
    "- The start sentence sets the expectation to read on \"organising documents in structures\"\n",
    "- The end sentences concludes that cluster based browsing has been successfully used for these. Now the reader expects to learn more about cluster based browsing in the next paragraph."
   ]
  },
  {
   "cell_type": "markdown",
   "metadata": {
    "slideshow": {
     "slide_type": "subslide"
    }
   },
   "source": [
    "### How to progress a paragraph?"
   ]
  },
  {
   "cell_type": "markdown",
   "metadata": {},
   "source": [
    "**Topic based Progression**\n",
    "- Progression around a constant topic\n",
    "- Chain Progression\n",
    "- Progression through partial aspects or subclasses of the main topic\n",
    "\n",
    "**Non Topic based Progression**\n",
    "- Progression through explanation or illustration\n",
    "- Logical Sequential Progression\n",
    "- Progression through transition words or enumeration (e.g. In addition, moreover, also, furthermore, besides)"
   ]
  },
  {
   "cell_type": "markdown",
   "metadata": {
    "slideshow": {
     "slide_type": "subslide"
    }
   },
   "source": [
    "**Example for Progression around a constant topic**\n",
    "\n",
    "> Information Retrieval through **browsing** remains a core concept for reading online content. **Browsing** large-scale document collections usually requires a structural organization form like topic hierarchies. Contrary, **browsing** hypermedia is based around the concept of hyperlinks. Both browsing types have their pros and cons.\n",
    "\n",
    "\n",
    "The topic in the paragraph remains constant. Every sentence reveals more details about **browsing**.\n"
   ]
  },
  {
   "cell_type": "markdown",
   "metadata": {
    "slideshow": {
     "slide_type": "subslide"
    }
   },
   "source": [
    "**Progression through partial aspects or subclasses of the main topic**\n",
    "\n",
    ">  **Hypermedia** consists of **content** and a **markup language**. The content is not limited to text alone, but can be any multimedia format. However, it does not define any additional information. **The markup language** on the other hand marks part of the content in order to define its semantics, presentation or function.\n",
    "\n",
    "\n",
    "The topic progresses like in a tree:\n",
    "\n",
    "- Describe Hypermedia\n",
    "  - Describe Content\n",
    "  - Describe Markup\n"
   ]
  },
  {
   "cell_type": "markdown",
   "metadata": {
    "slideshow": {
     "slide_type": "subslide"
    }
   },
   "source": [
    "**Example for Chain Progression**\n",
    "\n",
    "> Information Retrieval can be differentiated in retrieving and **browsing** large document collections. **Browsing** large-scale document collections usually requires a structural organization form like topic hierarchies. **Topic hierarchies** can be either created manually or automatically through a **clustering process**.  **Clustering** ....\n",
    "\n",
    "The topic of the paragraph progresses like a chain. The ending of one sentence (the so-called stress or the new knowledge) becomes the beginning of the next sentence. This structure guarantees that you explain the unknown with the known and that there are no topic jumps."
   ]
  },
  {
   "cell_type": "markdown",
   "metadata": {
    "slideshow": {
     "slide_type": "subslide"
    }
   },
   "source": [
    "**Example for  progression through explanation or illustration**\n",
    "\n",
    "> Information Retrieval refers to the process of finding information in a large document collection based on an fuzzy, user-defined information need. The process starts by identifying a users information need and to translate it into a query understandable by the information retrieval system. Often not only the process itself is considered as information retrieval, but ....\n",
    "\n",
    "We explain what information retrieval is, which becomes the theme of the paragraph. We could also use an example.\n",
    "\n",
    "> Information Retrieval refers to the process of finding information in a large document collection based on an fuzzy, user-defined information need. For example, a query send to Google for finding web-pages is such a retrieval process."
   ]
  },
  {
   "cell_type": "markdown",
   "metadata": {
    "slideshow": {
     "slide_type": "subslide"
    }
   },
   "source": [
    "**Example for logical sequential progression**\n",
    "\n",
    "> Retrieving information from the Web takes three steps: First, a information need entered by the user. Second, a query created from the information need and interpreted by the retrieval system. Third, a matching and ranking mechanism that fits queries to documents.\n",
    "\n",
    "**Note:** First, Second etc. are strong indicators for a logical (or enumerated) progression. It clearly separates the individual steps.\n",
    "\n"
   ]
  },
  {
   "cell_type": "markdown",
   "metadata": {
    "slideshow": {
     "slide_type": "subslide"
    }
   },
   "source": [
    "**Example for Progression through transition words or enumeration**\n",
    "\n",
    "> In this paper we make the following contributions: (i) We show that scientific writing is easy. (ii) We give concrete examples of common mistakes and (ii) we illustrate remedies for improving writing skills\n",
    "\n",
    "Progression through enumeration is again a very strong, explicit way of formulating things. If overdone it becomes boring easily. Similarly, transition words can strengthen transitions, but often at the risk on establishing transitions if there are none. \n",
    "\n",
    "> Jim and Bob played in the garden. In addition, cat Felix ran over the street. \n"
   ]
  },
  {
   "cell_type": "markdown",
   "metadata": {
    "slideshow": {
     "slide_type": "subslide"
    }
   },
   "source": [
    "## Remedy 2: Grabbing Attention"
   ]
  },
  {
   "cell_type": "markdown",
   "metadata": {},
   "source": [
    "If you write everything in the same way, readers will loose attention due to monotonic input. Compare it with a speaker, who is not changing his voice while talking.\n",
    "\n",
    "You can use the following methods to change the presentation of your content:\n"
   ]
  },
  {
   "cell_type": "markdown",
   "metadata": {
    "slideshow": {
     "slide_type": "fragment"
    }
   },
   "source": [
    "**Change format, style and structure: **\n",
    "- use *italic*, **bold**, _underlining_, numbered lists etc. to mark important parts\n",
    "- let sub-headings speak for themselves. \n",
    "- use sub-headings.\n",
    "- use visuals (tables, figures) to illustrate\n",
    "- use numbers \n",
    "    "
   ]
  },
  {
   "cell_type": "markdown",
   "metadata": {
    "slideshow": {
     "slide_type": "subslide"
    }
   },
   "source": [
    "**Change the syntax and style**\n",
    "- change between short and long sentences with a tendency to use shorter sentences at the end of a paragraph.\n",
    "- raise questions (and answer them)\n",
    "- contrast different views\n"
   ]
  },
  {
   "cell_type": "markdown",
   "metadata": {
    "slideshow": {
     "slide_type": "subslide"
    }
   },
   "source": [
    "**Use attention grabbing phrases to **\n",
    "- highlight unexpected/interesting findings: \"interestingly\", \"curiously\", \"might have\" (but did not), \"unforeseen\", \"unexpectedly\" etc.\n",
    "- convey importance: \"notably\", \"more importantly\", \"in particular\", \"even\", \"nevertheless\" etc.\n",
    "- announce contrasted views: \"although\", \"but\", \"contrary\", \"in contrast\", \"on the other hand\" etc.\n"
   ]
  },
  {
   "cell_type": "markdown",
   "metadata": {
    "slideshow": {
     "slide_type": "subslide"
    }
   },
   "source": [
    "**ATTENTION**\n",
    "\n",
    "<div class=\"alert alert-danger\">\n",
    "DONOT use to many attention grabbers. Otherwise the reader will start ignoring them.\n",
    "</div>\n",
    "<div class=\"alert alert-danger\">\n",
    "Signals loose their effect if used to often!\n",
    "</div>\n",
    "<div class=\"alert alert-danger\">\n",
    "Like too many traffic signs loose their effect. \n",
    "</div>\n",
    "<div class=\"alert alert-danger\">\n",
    "If you get an alert every 10 seconds, you stop caring about it.\n",
    "</div>\n",
    "<div class=\"alert alert-danger\">\n",
    "It becomes normal.\n",
    "</div>"
   ]
  },
  {
   "cell_type": "markdown",
   "metadata": {
    "slideshow": {
     "slide_type": "subslide"
    }
   },
   "source": [
    "## Remedy 3: Pause"
   ]
  },
  {
   "cell_type": "markdown",
   "metadata": {},
   "source": [
    "Complexity can not be avoided in a research article. You need to go into details. \n",
    "\n",
    "However, after going into details, give the reader a pause through\n",
    "\n",
    "1. **Illustrating** a complex topic using an example (or two). Examples should foster the intuition of the reader and/or verify the correct understanding of the reader\n",
    "2. **Summarizing** the most important points. Note that there is a thin line between redundancy and a pause."
   ]
  },
  {
   "cell_type": "markdown",
   "metadata": {
    "slideshow": {
     "slide_type": "subslide"
    }
   },
   "source": [
    "**Example**\n",
    "\n",
    "The example in blue provides clarity and gives the reader time to see if she understands the equation. Further, the summary in green concludes the paragraph and summarizes the essential points of the equation (that what retains in the readers memory).\n",
    "\n",
    "<div class=\"alert alert-danger\">\n",
    "Helic et. al. found that human navigation in Wikipedia can be described through a decaying $\\epsilon$-greedy model.\n",
    " The mechanism is based on a decay function that adapts $\\epsilon$ at every step during navigation. The decay function can take numerous forms, in this work we experimented with a decay function that starts with a given $\\epsilon_0$ (e.g. $\\epsilon_0=0.8$) and then decays during navigation by a certain factor $\\lambda$ (e.g. $\\lambda=2$). In general, we define $\\epsilon$ as the function of the hop length $t$ in the following way:\n",
    "$$\n",
    "\\epsilon(t) = \\epsilon_0 * \\lambda^{-t}\n",
    "$$\n",
    "</div>\n",
    "\n",
    "<div class=\"alert alert-info\">\n",
    "With the exemplary parameters from above, $\\epsilon$-greedy would use the following epsilons $\\epsilon_t$ at step t during navigation: $\\epsilon(0) = 0.8$,$\\epsilon(1) = 0.4$, $\\epsilon(2) = 0.2$, and so on and so forth modeling the increase in human intuition about the network from click to click. \n",
    "</div>\n",
    "\n",
    "<div class=\"alert alert-success\">\n",
    "To summarize, the decaying $\\epsilon$-greedy model allows to accurately model human navigation behaviour in different situations.\n",
    "</div>"
   ]
  },
  {
   "cell_type": "markdown",
   "metadata": {
    "slideshow": {
     "slide_type": "slide"
    }
   },
   "source": [
    "## Remedy 5: Reduce reading time"
   ]
  },
  {
   "cell_type": "markdown",
   "metadata": {},
   "source": [
    "Shorter reading time means less time needed for maintaining attention and focus.\n",
    "\n",
    "Some hints to reduce reading time [1]:\n",
    "\n",
    "- Avoid syntactical and semantical errors: acronym, ambiguities, long sentences, illogical steps, knowledge gaps\n",
    "- Avoid complex or abstract sentences. Be concrete and concise.\n",
    "- Improve the structure of the article, every section, every paragraph, every sentence\n",
    "- Use examples to foster the intuition of the reader before diving into the complex details\n",
    "- Use visuals and layout element to set out important parts\n",
    "- Write for you target audience. Consider their background knowledge and fill the knowledge gaps.\n",
    "- Write concise (short and precise)\n",
    "\n",
    "\n",
    "[1]: I know my own text still contain many of the errors listed here. Removing such errors costs time, so don't underestimate it.  "
   ]
  },
  {
   "cell_type": "markdown",
   "metadata": {
    "slideshow": {
     "slide_type": "slide"
    }
   },
   "source": [
    "# Managing the Readers Motivation"
   ]
  },
  {
   "cell_type": "markdown",
   "metadata": {
    "slideshow": {
     "slide_type": "fragment"
    }
   },
   "source": [
    "Motivation is the starting place for a reader to search for papers, open your paper and start reading it. Reading scientific papers is hard, labour intensive work. Motivation is the main fuel to do the work and you as a writer should support the reader in doing so.\n",
    "\n",
    "Some reasons why people read scientific papers:\n",
    "\n",
    "- Solving a problem a reader has in its own work\n",
    "- Read about competitors\n",
    "- Identifying new trends and approaches related to ones own work\n",
    "- Writing an academic thesis to get an degree\n",
    "- Reading for interest/to gain knowledge\n",
    "- etc. \n",
    "\n",
    "Think about your own situations, why you read scientific literature. If you abort reading a paper, ask why and what the writer could have done better. "
   ]
  },
  {
   "cell_type": "markdown",
   "metadata": {
    "slideshow": {
     "slide_type": "subslide"
    }
   },
   "source": [
    "## Basic techniques for managing Motivation"
   ]
  },
  {
   "cell_type": "markdown",
   "metadata": {
    "slideshow": {
     "slide_type": "fragment"
    }
   },
   "source": [
    "<div class = \"alert alert-info\">\n",
    "Key #1: \"Set expectations, and fulfill them\"\n",
    "</div>\n",
    "\n",
    "- Use a title that represents the content of your paper\n",
    "- Provide the reader with the baseline knowledge to understand your contributions\n",
    "- By structuring the article such that the reader can take shortcuts and optimize her reading time.\n",
    "- By being concise but concrete about your methodology, contributions and results. \n",
    "- By using visuals, examples and explanation.\n",
    "- By using questions or question-like phrases to guide the reader.\n",
    "\n",
    " \n"
   ]
  },
  {
   "cell_type": "markdown",
   "metadata": {
    "slideshow": {
     "slide_type": "subslide"
    }
   },
   "source": [
    "<div class = \"alert alert-info\">\n",
    "Key #2: \"Structure your paper such that readers can easily selects the parts they are interested in.\"\n",
    "</div>\n",
    "\n",
    "Since it is hard to know a readers motivation a-priori, a good research paper has a structure that allows the reader to take the parts that helps him/her most. So the structure of a paper is the key to keep a reader motivated and darwing him/her to your research. \n",
    "\n",
    "Often readers skim through articles trying to find the interesting pieces for their own work. A good structure, visuals and different styles support skimming. \n"
   ]
  },
  {
   "cell_type": "markdown",
   "metadata": {
    "slideshow": {
     "slide_type": "slide"
    }
   },
   "source": [
    "# Summary"
   ]
  },
  {
   "cell_type": "markdown",
   "metadata": {
    "slideshow": {
     "slide_type": "fragment"
    }
   },
   "source": [
    "Learn to manage the\n",
    "\n",
    "- Reader's Short Term Memory\n",
    "- Reader's Attention\n",
    "- Reader's Motivation\n",
    "\n",
    "You can also watch [6 ideas to write a bad paper](https://www.youtube.com/watch?v=rTSHu-G1xzc) for a somehow funny summary.\n",
    "<p>\n",
    "<div class=\"alert alert-info\">\n",
    "If you want to improve your writing, take these slides, go through practical examples, read up Leburn's Book, use the accompanied software and practice, practice, practice. \n",
    "</div>\n",
    "\n"
   ]
  },
  {
   "cell_type": "markdown",
   "metadata": {},
   "source": [
    "# Literature"
   ]
  },
  {
   "cell_type": "markdown",
   "metadata": {},
   "source": [
    "Jean-Luc Lebrun, (2007), Scientific Writing - A Reader and Writer's Guide, [World Scientific](http://www.worldscientific.com/worldscibooks/10.1142/6286), ISBN: 978-981-270-144-2 (highly recommended)\n",
    "\n",
    "Jean-Luc Lebrun, (2010), Scientific Writing 2.0 - A Reader and Writer's Guide, [World Scientific](http://www.worldscientific.com/worldscibooks/10.1142/6286), ISBN: 978-981-270-144-2 (highly recommended)"
   ]
  }
 ],
 "metadata": {
  "celltoolbar": "Slideshow",
  "kernelspec": {
   "display_name": "Python 3",
   "language": "python",
   "name": "python3"
  },
  "language_info": {
   "codemirror_mode": {
    "name": "ipython",
    "version": 3
   },
   "file_extension": ".py",
   "mimetype": "text/x-python",
   "name": "python",
   "nbconvert_exporter": "python",
   "pygments_lexer": "ipython3",
   "version": "3.5.1"
  }
 },
 "nbformat": 4,
 "nbformat_minor": 0
}
